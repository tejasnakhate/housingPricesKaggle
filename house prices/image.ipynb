{
 "cells": [
  {
   "cell_type": "code",
   "execution_count": null,
   "metadata": {},
   "outputs": [],
   "source": [
    "!pip install img2pdf"
   ]
  },
  {
   "cell_type": "code",
   "execution_count": 9,
   "metadata": {},
   "outputs": [
    {
     "name": "stdout",
     "output_type": "stream",
     "text": [
      "rutu 001\n",
      "rutu 002\n",
      "rutu 003\n",
      "rutu 004\n",
      "rutu 005\n",
      "rutu 006\n",
      "rutu 007\n",
      "rutu 008\n",
      "rutu 009\n",
      "rutu 010\n",
      "rutu 011\n",
      "rutu 012\n",
      "rutu 013\n",
      "rutu 014\n",
      "rutu 015\n",
      "rutu 016\n",
      "rutu 017\n",
      "rutu 018\n",
      "rutu 019\n",
      "rutu 020\n",
      "rutu 021\n",
      "rutu 022\n",
      "rutu 023\n",
      "rutu 024\n",
      "rutu 025\n",
      "rutu 026\n",
      "rutu 027\n",
      "rutu 028\n",
      "rutu 029\n",
      "rutu 030\n",
      "rutu 031\n",
      "rutu 032\n",
      "rutu 033\n",
      "rutu 034\n",
      "rutu 035\n",
      "rutu 036\n",
      "rutu 037\n",
      "rutu 038\n",
      "rutu 039\n",
      "rutu 040\n",
      "rutu 041\n",
      "rutu 042\n",
      "rutu 043\n",
      "rutu 044\n",
      "rutu 045\n",
      "rutu 046\n",
      "rutu 047\n",
      "rutu 048\n",
      "rutu 049\n",
      "rutu 050\n",
      "rutu 051\n",
      "rutu 052\n",
      "rutu 053\n",
      "rutu 054\n",
      "rutu 055\n",
      "rutu 056\n",
      "rutu 057\n",
      "rutu 058\n",
      "rutu 059\n",
      "rutu 060\n",
      "rutu 061\n",
      "rutu 062\n",
      "rutu 063\n",
      "rutu 064\n",
      "rutu 065\n",
      "rutu 066\n",
      "rutu 067\n",
      "rutu 068\n",
      "rutu 069\n",
      "rutu 070\n",
      "rutu 071\n",
      "rutu 072\n",
      "rutu 073\n",
      "rutu 074\n",
      "rutu 075\n",
      "rutu 076\n",
      "rutu 077\n",
      "rutu 078\n",
      "rutu 079\n",
      "rutu 080\n",
      "rutu 081\n",
      "rutu 082\n",
      "rutu 083\n",
      "rutu 084\n",
      "rutu 085\n",
      "rutu 086\n",
      "rutu 087\n",
      "rutu 088\n",
      "rutu 089\n",
      "rutu 090\n",
      "rutu 091\n",
      "rutu 092\n",
      "rutu 093\n",
      "rutu 094\n",
      "rutu 095\n",
      "rutu 096\n",
      "rutu 097\n",
      "rutu 098\n",
      "rutu 099\n",
      "rutu 100\n",
      "rutu 101\n",
      "rutu 102\n",
      "rutu 103\n",
      "rutu 104\n",
      "rutu 105\n",
      "rutu 106\n",
      "rutu 107\n",
      "rutu 108\n",
      "rutu 109\n"
     ]
    }
   ],
   "source": [
    "import img2pdf as ip\n",
    "txt = \"rutu 00\"\n",
    "i=1\n",
    "flag = True\n",
    "ans = \"\"\n",
    "while i<110:\n",
    "    if i>=10 and flag:\n",
    "        txt = \"rutu 0\"\n",
    "        flag = False\n",
    "    if i>=100:\n",
    "        txt = \"rutu \"\n",
    "    str1 = txt\n",
    "    ans = str(ans) + \",'\" + str(str1)+str(i) + \".jpg'\"\n",
    "    print(str(str1)+str(i))\n",
    "    i+=1"
   ]
  },
  {
   "cell_type": "code",
   "execution_count": 10,
   "metadata": {},
   "outputs": [
    {
     "data": {
      "text/plain": [
       "\",'rutu 001.jpg','rutu 002.jpg','rutu 003.jpg','rutu 004.jpg','rutu 005.jpg','rutu 006.jpg','rutu 007.jpg','rutu 008.jpg','rutu 009.jpg','rutu 010.jpg','rutu 011.jpg','rutu 012.jpg','rutu 013.jpg','rutu 014.jpg','rutu 015.jpg','rutu 016.jpg','rutu 017.jpg','rutu 018.jpg','rutu 019.jpg','rutu 020.jpg','rutu 021.jpg','rutu 022.jpg','rutu 023.jpg','rutu 024.jpg','rutu 025.jpg','rutu 026.jpg','rutu 027.jpg','rutu 028.jpg','rutu 029.jpg','rutu 030.jpg','rutu 031.jpg','rutu 032.jpg','rutu 033.jpg','rutu 034.jpg','rutu 035.jpg','rutu 036.jpg','rutu 037.jpg','rutu 038.jpg','rutu 039.jpg','rutu 040.jpg','rutu 041.jpg','rutu 042.jpg','rutu 043.jpg','rutu 044.jpg','rutu 045.jpg','rutu 046.jpg','rutu 047.jpg','rutu 048.jpg','rutu 049.jpg','rutu 050.jpg','rutu 051.jpg','rutu 052.jpg','rutu 053.jpg','rutu 054.jpg','rutu 055.jpg','rutu 056.jpg','rutu 057.jpg','rutu 058.jpg','rutu 059.jpg','rutu 060.jpg','rutu 061.jpg','rutu 062.jpg','rutu 063.jpg','rutu 064.jpg','rutu 065.jpg','rutu 066.jpg','rutu 067.jpg','rutu 068.jpg','rutu 069.jpg','rutu 070.jpg','rutu 071.jpg','rutu 072.jpg','rutu 073.jpg','rutu 074.jpg','rutu 075.jpg','rutu 076.jpg','rutu 077.jpg','rutu 078.jpg','rutu 079.jpg','rutu 080.jpg','rutu 081.jpg','rutu 082.jpg','rutu 083.jpg','rutu 084.jpg','rutu 085.jpg','rutu 086.jpg','rutu 087.jpg','rutu 088.jpg','rutu 089.jpg','rutu 090.jpg','rutu 091.jpg','rutu 092.jpg','rutu 093.jpg','rutu 094.jpg','rutu 095.jpg','rutu 096.jpg','rutu 097.jpg','rutu 098.jpg','rutu 099.jpg','rutu 100.jpg','rutu 101.jpg','rutu 102.jpg','rutu 103.jpg','rutu 104.jpg','rutu 105.jpg','rutu 106.jpg','rutu 107.jpg','rutu 108.jpg','rutu 109.jpg'\""
      ]
     },
     "execution_count": 10,
     "metadata": {},
     "output_type": "execute_result"
    }
   ],
   "source": [
    "ans"
   ]
  },
  {
   "cell_type": "code",
   "execution_count": 15,
   "metadata": {},
   "outputs": [
    {
     "ename": "TypeError",
     "evalue": "a bytes-like object is required, not 'str'",
     "output_type": "error",
     "traceback": [
      "\u001b[1;31m---------------------------------------------------------------------------\u001b[0m",
      "\u001b[1;31mTypeError\u001b[0m                                 Traceback (most recent call last)",
      "\u001b[1;32m<ipython-input-15-323251615610>\u001b[0m in \u001b[0;36m<module>\u001b[1;34m\u001b[0m\n\u001b[0;32m      1\u001b[0m \u001b[0minput_files\u001b[0m \u001b[1;33m=\u001b[0m \u001b[1;33m[\u001b[0m\u001b[1;34m'rutu 001.jpg'\u001b[0m\u001b[1;33m,\u001b[0m\u001b[1;34m'rutu 002.jpg'\u001b[0m\u001b[1;33m,\u001b[0m\u001b[1;34m'rutu 003.jpg'\u001b[0m\u001b[1;33m,\u001b[0m\u001b[1;34m'rutu 004.jpg'\u001b[0m\u001b[1;33m,\u001b[0m\u001b[1;34m'rutu 005.jpg'\u001b[0m\u001b[1;33m,\u001b[0m\u001b[1;34m'rutu 006.jpg'\u001b[0m\u001b[1;33m,\u001b[0m\u001b[1;34m'rutu 007.jpg'\u001b[0m\u001b[1;33m,\u001b[0m\u001b[1;34m'rutu 008.jpg'\u001b[0m\u001b[1;33m,\u001b[0m\u001b[1;34m'rutu 009.jpg'\u001b[0m\u001b[1;33m,\u001b[0m\u001b[1;34m'rutu 010.jpg'\u001b[0m\u001b[1;33m,\u001b[0m\u001b[1;34m'rutu 011.jpg'\u001b[0m\u001b[1;33m,\u001b[0m\u001b[1;34m'rutu 012.jpg'\u001b[0m\u001b[1;33m,\u001b[0m\u001b[1;34m'rutu 013.jpg'\u001b[0m\u001b[1;33m,\u001b[0m\u001b[1;34m'rutu 014.jpg'\u001b[0m\u001b[1;33m,\u001b[0m\u001b[1;34m'rutu 015.jpg'\u001b[0m\u001b[1;33m,\u001b[0m\u001b[1;34m'rutu 016.jpg'\u001b[0m\u001b[1;33m,\u001b[0m\u001b[1;34m'rutu 017.jpg'\u001b[0m\u001b[1;33m,\u001b[0m\u001b[1;34m'rutu 018.jpg'\u001b[0m\u001b[1;33m,\u001b[0m\u001b[1;34m'rutu 019.jpg'\u001b[0m\u001b[1;33m,\u001b[0m\u001b[1;34m'rutu 020.jpg'\u001b[0m\u001b[1;33m,\u001b[0m\u001b[1;34m'rutu 021.jpg'\u001b[0m\u001b[1;33m,\u001b[0m\u001b[1;34m'rutu 022.jpg'\u001b[0m\u001b[1;33m,\u001b[0m\u001b[1;34m'rutu 023.jpg'\u001b[0m\u001b[1;33m,\u001b[0m\u001b[1;34m'rutu 024.jpg'\u001b[0m\u001b[1;33m,\u001b[0m\u001b[1;34m'rutu 025.jpg'\u001b[0m\u001b[1;33m,\u001b[0m\u001b[1;34m'rutu 026.jpg'\u001b[0m\u001b[1;33m,\u001b[0m\u001b[1;34m'rutu 027.jpg'\u001b[0m\u001b[1;33m,\u001b[0m\u001b[1;34m'rutu 028.jpg'\u001b[0m\u001b[1;33m,\u001b[0m\u001b[1;34m'rutu 029.jpg'\u001b[0m\u001b[1;33m,\u001b[0m\u001b[1;34m'rutu 030.jpg'\u001b[0m\u001b[1;33m,\u001b[0m\u001b[1;34m'rutu 031.jpg'\u001b[0m\u001b[1;33m,\u001b[0m\u001b[1;34m'rutu 032.jpg'\u001b[0m\u001b[1;33m,\u001b[0m\u001b[1;34m'rutu 033.jpg'\u001b[0m\u001b[1;33m,\u001b[0m\u001b[1;34m'rutu 034.jpg'\u001b[0m\u001b[1;33m,\u001b[0m\u001b[1;34m'rutu 035.jpg'\u001b[0m\u001b[1;33m,\u001b[0m\u001b[1;34m'rutu 036.jpg'\u001b[0m\u001b[1;33m,\u001b[0m\u001b[1;34m'rutu 037.jpg'\u001b[0m\u001b[1;33m,\u001b[0m\u001b[1;34m'rutu 038.jpg'\u001b[0m\u001b[1;33m,\u001b[0m\u001b[1;34m'rutu 039.jpg'\u001b[0m\u001b[1;33m,\u001b[0m\u001b[1;34m'rutu 040.jpg'\u001b[0m\u001b[1;33m,\u001b[0m\u001b[1;34m'rutu 041.jpg'\u001b[0m\u001b[1;33m,\u001b[0m\u001b[1;34m'rutu 042.jpg'\u001b[0m\u001b[1;33m,\u001b[0m\u001b[1;34m'rutu 043.jpg'\u001b[0m\u001b[1;33m,\u001b[0m\u001b[1;34m'rutu 044.jpg'\u001b[0m\u001b[1;33m,\u001b[0m\u001b[1;34m'rutu 045.jpg'\u001b[0m\u001b[1;33m,\u001b[0m\u001b[1;34m'rutu 046.jpg'\u001b[0m\u001b[1;33m,\u001b[0m\u001b[1;34m'rutu 047.jpg'\u001b[0m\u001b[1;33m,\u001b[0m\u001b[1;34m'rutu 048.jpg'\u001b[0m\u001b[1;33m,\u001b[0m\u001b[1;34m'rutu 049.jpg'\u001b[0m\u001b[1;33m,\u001b[0m\u001b[1;34m'rutu 050.jpg'\u001b[0m\u001b[1;33m,\u001b[0m\u001b[1;34m'rutu 051.jpg'\u001b[0m\u001b[1;33m,\u001b[0m\u001b[1;34m'rutu 052.jpg'\u001b[0m\u001b[1;33m,\u001b[0m\u001b[1;34m'rutu 053.jpg'\u001b[0m\u001b[1;33m,\u001b[0m\u001b[1;34m'rutu 054.jpg'\u001b[0m\u001b[1;33m,\u001b[0m\u001b[1;34m'rutu 055.jpg'\u001b[0m\u001b[1;33m,\u001b[0m\u001b[1;34m'rutu 056.jpg'\u001b[0m\u001b[1;33m,\u001b[0m\u001b[1;34m'rutu 057.jpg'\u001b[0m\u001b[1;33m,\u001b[0m\u001b[1;34m'rutu 058.jpg'\u001b[0m\u001b[1;33m,\u001b[0m\u001b[1;34m'rutu 059.jpg'\u001b[0m\u001b[1;33m,\u001b[0m\u001b[1;34m'rutu 060.jpg'\u001b[0m\u001b[1;33m,\u001b[0m\u001b[1;34m'rutu 061.jpg'\u001b[0m\u001b[1;33m,\u001b[0m\u001b[1;34m'rutu 062.jpg'\u001b[0m\u001b[1;33m,\u001b[0m\u001b[1;34m'rutu 063.jpg'\u001b[0m\u001b[1;33m,\u001b[0m\u001b[1;34m'rutu 064.jpg'\u001b[0m\u001b[1;33m,\u001b[0m\u001b[1;34m'rutu 065.jpg'\u001b[0m\u001b[1;33m,\u001b[0m\u001b[1;34m'rutu 066.jpg'\u001b[0m\u001b[1;33m,\u001b[0m\u001b[1;34m'rutu 067.jpg'\u001b[0m\u001b[1;33m,\u001b[0m\u001b[1;34m'rutu 068.jpg'\u001b[0m\u001b[1;33m,\u001b[0m\u001b[1;34m'rutu 069.jpg'\u001b[0m\u001b[1;33m,\u001b[0m\u001b[1;34m'rutu 070.jpg'\u001b[0m\u001b[1;33m,\u001b[0m\u001b[1;34m'rutu 071.jpg'\u001b[0m\u001b[1;33m,\u001b[0m\u001b[1;34m'rutu 072.jpg'\u001b[0m\u001b[1;33m,\u001b[0m\u001b[1;34m'rutu 073.jpg'\u001b[0m\u001b[1;33m,\u001b[0m\u001b[1;34m'rutu 074.jpg'\u001b[0m\u001b[1;33m,\u001b[0m\u001b[1;34m'rutu 075.jpg'\u001b[0m\u001b[1;33m,\u001b[0m\u001b[1;34m'rutu 076.jpg'\u001b[0m\u001b[1;33m,\u001b[0m\u001b[1;34m'rutu 077.jpg'\u001b[0m\u001b[1;33m,\u001b[0m\u001b[1;34m'rutu 078.jpg'\u001b[0m\u001b[1;33m,\u001b[0m\u001b[1;34m'rutu 079.jpg'\u001b[0m\u001b[1;33m,\u001b[0m\u001b[1;34m'rutu 080.jpg'\u001b[0m\u001b[1;33m,\u001b[0m\u001b[1;34m'rutu 081.jpg'\u001b[0m\u001b[1;33m,\u001b[0m\u001b[1;34m'rutu 082.jpg'\u001b[0m\u001b[1;33m,\u001b[0m\u001b[1;34m'rutu 083.jpg'\u001b[0m\u001b[1;33m,\u001b[0m\u001b[1;34m'rutu 084.jpg'\u001b[0m\u001b[1;33m,\u001b[0m\u001b[1;34m'rutu 085.jpg'\u001b[0m\u001b[1;33m,\u001b[0m\u001b[1;34m'rutu 086.jpg'\u001b[0m\u001b[1;33m,\u001b[0m\u001b[1;34m'rutu 087.jpg'\u001b[0m\u001b[1;33m,\u001b[0m\u001b[1;34m'rutu 088.jpg'\u001b[0m\u001b[1;33m,\u001b[0m\u001b[1;34m'rutu 089.jpg'\u001b[0m\u001b[1;33m,\u001b[0m\u001b[1;34m'rutu 090.jpg'\u001b[0m\u001b[1;33m,\u001b[0m\u001b[1;34m'rutu 091.jpg'\u001b[0m\u001b[1;33m,\u001b[0m\u001b[1;34m'rutu 092.jpg'\u001b[0m\u001b[1;33m,\u001b[0m\u001b[1;34m'rutu 093.jpg'\u001b[0m\u001b[1;33m,\u001b[0m\u001b[1;34m'rutu 094.jpg'\u001b[0m\u001b[1;33m,\u001b[0m\u001b[1;34m'rutu 095.jpg'\u001b[0m\u001b[1;33m,\u001b[0m\u001b[1;34m'rutu 096.jpg'\u001b[0m\u001b[1;33m,\u001b[0m\u001b[1;34m'rutu 097.jpg'\u001b[0m\u001b[1;33m,\u001b[0m\u001b[1;34m'rutu 098.jpg'\u001b[0m\u001b[1;33m,\u001b[0m\u001b[1;34m'rutu 099.jpg'\u001b[0m\u001b[1;33m,\u001b[0m\u001b[1;34m'rutu 100.jpg'\u001b[0m\u001b[1;33m,\u001b[0m\u001b[1;34m'rutu 101.jpg'\u001b[0m\u001b[1;33m,\u001b[0m\u001b[1;34m'rutu 102.jpg'\u001b[0m\u001b[1;33m,\u001b[0m\u001b[1;34m'rutu 103.jpg'\u001b[0m\u001b[1;33m,\u001b[0m\u001b[1;34m'rutu 104.jpg'\u001b[0m\u001b[1;33m,\u001b[0m\u001b[1;34m'rutu 105.jpg'\u001b[0m\u001b[1;33m,\u001b[0m\u001b[1;34m'rutu 106.jpg'\u001b[0m\u001b[1;33m,\u001b[0m\u001b[1;34m'rutu 107.jpg'\u001b[0m\u001b[1;33m,\u001b[0m\u001b[1;34m'rutu 108.jpg'\u001b[0m\u001b[1;33m,\u001b[0m\u001b[1;34m'rutu 109.jpg'\u001b[0m\u001b[1;33m]\u001b[0m\u001b[1;33m\u001b[0m\u001b[1;33m\u001b[0m\u001b[0m\n\u001b[0;32m      2\u001b[0m \u001b[0mop\u001b[0m \u001b[1;33m=\u001b[0m \u001b[0mopen\u001b[0m\u001b[1;33m(\u001b[0m\u001b[1;34m'combined.pdf'\u001b[0m\u001b[1;33m,\u001b[0m\u001b[1;34m'wb'\u001b[0m\u001b[1;33m)\u001b[0m\u001b[1;33m\u001b[0m\u001b[1;33m\u001b[0m\u001b[0m\n\u001b[1;32m----> 3\u001b[1;33m \u001b[0mop\u001b[0m\u001b[1;33m.\u001b[0m\u001b[0mwrite\u001b[0m\u001b[1;33m(\u001b[0m\u001b[0mip\u001b[0m\u001b[1;33m.\u001b[0m\u001b[0mconvert\u001b[0m\u001b[1;33m(\u001b[0m\u001b[0minput_files\u001b[0m\u001b[1;33m)\u001b[0m\u001b[1;33m)\u001b[0m\u001b[1;33m\u001b[0m\u001b[1;33m\u001b[0m\u001b[0m\n\u001b[0m\u001b[0;32m      4\u001b[0m \u001b[0mop\u001b[0m\u001b[1;33m.\u001b[0m\u001b[0mclose\u001b[0m\u001b[1;33m(\u001b[0m\u001b[1;33m)\u001b[0m\u001b[1;33m\u001b[0m\u001b[1;33m\u001b[0m\u001b[0m\n",
      "\u001b[1;32m~\\Anaconda3\\lib\\site-packages\\img2pdf.py\u001b[0m in \u001b[0;36mconvert\u001b[1;34m(*images, **kwargs)\u001b[0m\n\u001b[0;32m   2030\u001b[0m             \u001b[0mrotation\u001b[0m\u001b[1;33m,\u001b[0m\u001b[1;33m\u001b[0m\u001b[1;33m\u001b[0m\u001b[0m\n\u001b[0;32m   2031\u001b[0m             \u001b[0miccp\u001b[0m\u001b[1;33m,\u001b[0m\u001b[1;33m\u001b[0m\u001b[1;33m\u001b[0m\u001b[0m\n\u001b[1;32m-> 2032\u001b[1;33m         ) in read_images(rawdata, kwargs[\"colorspace\"], kwargs[\"first_frame_only\"]):\n\u001b[0m\u001b[0;32m   2033\u001b[0m             pagewidth, pageheight, imgwidthpdf, imgheightpdf = kwargs[\"layout_fun\"](\n\u001b[0;32m   2034\u001b[0m                 \u001b[0mimgwidthpx\u001b[0m\u001b[1;33m,\u001b[0m \u001b[0mimgheightpx\u001b[0m\u001b[1;33m,\u001b[0m \u001b[0mndpi\u001b[0m\u001b[1;33m\u001b[0m\u001b[1;33m\u001b[0m\u001b[0m\n",
      "\u001b[1;32m~\\Anaconda3\\lib\\site-packages\\img2pdf.py\u001b[0m in \u001b[0;36mread_images\u001b[1;34m(rawdata, colorspace, first_frame_only)\u001b[0m\n\u001b[0;32m   1343\u001b[0m \u001b[1;33m\u001b[0m\u001b[0m\n\u001b[0;32m   1344\u001b[0m \u001b[1;32mdef\u001b[0m \u001b[0mread_images\u001b[0m\u001b[1;33m(\u001b[0m\u001b[0mrawdata\u001b[0m\u001b[1;33m,\u001b[0m \u001b[0mcolorspace\u001b[0m\u001b[1;33m,\u001b[0m \u001b[0mfirst_frame_only\u001b[0m\u001b[1;33m=\u001b[0m\u001b[1;32mFalse\u001b[0m\u001b[1;33m)\u001b[0m\u001b[1;33m:\u001b[0m\u001b[1;33m\u001b[0m\u001b[1;33m\u001b[0m\u001b[0m\n\u001b[1;32m-> 1345\u001b[1;33m     \u001b[0mim\u001b[0m \u001b[1;33m=\u001b[0m \u001b[0mBytesIO\u001b[0m\u001b[1;33m(\u001b[0m\u001b[0mrawdata\u001b[0m\u001b[1;33m)\u001b[0m\u001b[1;33m\u001b[0m\u001b[1;33m\u001b[0m\u001b[0m\n\u001b[0m\u001b[0;32m   1346\u001b[0m     \u001b[0mim\u001b[0m\u001b[1;33m.\u001b[0m\u001b[0mseek\u001b[0m\u001b[1;33m(\u001b[0m\u001b[1;36m0\u001b[0m\u001b[1;33m)\u001b[0m\u001b[1;33m\u001b[0m\u001b[1;33m\u001b[0m\u001b[0m\n\u001b[0;32m   1347\u001b[0m     \u001b[0mimgdata\u001b[0m \u001b[1;33m=\u001b[0m \u001b[1;32mNone\u001b[0m\u001b[1;33m\u001b[0m\u001b[1;33m\u001b[0m\u001b[0m\n",
      "\u001b[1;31mTypeError\u001b[0m: a bytes-like object is required, not 'str'"
     ]
    }
   ],
   "source": [
    "input_files = ['rutu 001.jpg','rutu 002.jpg','rutu 003.jpg','rutu 004.jpg','rutu 005.jpg','rutu 006.jpg','rutu 007.jpg','rutu 008.jpg','rutu 009.jpg','rutu 010.jpg','rutu 011.jpg','rutu 012.jpg','rutu 013.jpg','rutu 014.jpg','rutu 015.jpg','rutu 016.jpg','rutu 017.jpg','rutu 018.jpg','rutu 019.jpg','rutu 020.jpg','rutu 021.jpg','rutu 022.jpg','rutu 023.jpg','rutu 024.jpg','rutu 025.jpg','rutu 026.jpg','rutu 027.jpg','rutu 028.jpg','rutu 029.jpg','rutu 030.jpg','rutu 031.jpg','rutu 032.jpg','rutu 033.jpg','rutu 034.jpg','rutu 035.jpg','rutu 036.jpg','rutu 037.jpg','rutu 038.jpg','rutu 039.jpg','rutu 040.jpg','rutu 041.jpg','rutu 042.jpg','rutu 043.jpg','rutu 044.jpg','rutu 045.jpg','rutu 046.jpg','rutu 047.jpg','rutu 048.jpg','rutu 049.jpg','rutu 050.jpg','rutu 051.jpg','rutu 052.jpg','rutu 053.jpg','rutu 054.jpg','rutu 055.jpg','rutu 056.jpg','rutu 057.jpg','rutu 058.jpg','rutu 059.jpg','rutu 060.jpg','rutu 061.jpg','rutu 062.jpg','rutu 063.jpg','rutu 064.jpg','rutu 065.jpg','rutu 066.jpg','rutu 067.jpg','rutu 068.jpg','rutu 069.jpg','rutu 070.jpg','rutu 071.jpg','rutu 072.jpg','rutu 073.jpg','rutu 074.jpg','rutu 075.jpg','rutu 076.jpg','rutu 077.jpg','rutu 078.jpg','rutu 079.jpg','rutu 080.jpg','rutu 081.jpg','rutu 082.jpg','rutu 083.jpg','rutu 084.jpg','rutu 085.jpg','rutu 086.jpg','rutu 087.jpg','rutu 088.jpg','rutu 089.jpg','rutu 090.jpg','rutu 091.jpg','rutu 092.jpg','rutu 093.jpg','rutu 094.jpg','rutu 095.jpg','rutu 096.jpg','rutu 097.jpg','rutu 098.jpg','rutu 099.jpg','rutu 100.jpg','rutu 101.jpg','rutu 102.jpg','rutu 103.jpg','rutu 104.jpg','rutu 105.jpg','rutu 106.jpg','rutu 107.jpg','rutu 108.jpg','rutu 109.jpg']\n",
    "op = open('combined.pdf','wb')\n",
    "op.write(ip.convert(input_files))\n",
    "op.close()"
   ]
  },
  {
   "cell_type": "code",
   "execution_count": null,
   "metadata": {},
   "outputs": [],
   "source": [
    "x"
   ]
  }
 ],
 "metadata": {
  "kernelspec": {
   "display_name": "Python 3",
   "language": "python",
   "name": "python3"
  },
  "language_info": {
   "codemirror_mode": {
    "name": "ipython",
    "version": 3
   },
   "file_extension": ".py",
   "mimetype": "text/x-python",
   "name": "python",
   "nbconvert_exporter": "python",
   "pygments_lexer": "ipython3",
   "version": "3.7.4"
  }
 },
 "nbformat": 4,
 "nbformat_minor": 2
}
